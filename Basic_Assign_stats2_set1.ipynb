{
  "nbformat": 4,
  "nbformat_minor": 0,
  "metadata": {
    "colab": {
      "name": "Basic Assign stats2 set1.ipynb",
      "provenance": [],
      "authorship_tag": "ABX9TyO7v42pOgFfqI8MCwtnjpSp",
      "include_colab_link": true
    },
    "kernelspec": {
      "name": "python3",
      "display_name": "Python 3"
    },
    "language_info": {
      "name": "python"
    }
  },
  "cells": [
    {
      "cell_type": "markdown",
      "metadata": {
        "id": "view-in-github",
        "colab_type": "text"
      },
      "source": [
        "<a href=\"https://colab.research.google.com/github/gurpinder95/Basic-assignments1/blob/main/Basic_Assign_stats2_set1.ipynb\" target=\"_parent\"><img src=\"https://colab.research.google.com/assets/colab-badge.svg\" alt=\"Open In Colab\"/></a>"
      ]
    },
    {
      "cell_type": "code",
      "metadata": {
        "id": "ouUi1Borf_vn"
      },
      "source": [
        "import pandas as pd\n",
        "import numpy as np\n",
        "from scipy import stats\n",
        "from statistics import mean,stdev,variance\n",
        "import seaborn as sns\n",
        "import matplotlib.pyplot as plt\n"
      ],
      "execution_count": null,
      "outputs": []
    },
    {
      "cell_type": "code",
      "metadata": {
        "id": "wSi4yhUPgjoZ"
      },
      "source": [
        "a=[\" Allied Signal \" ,\" Bankers Trust\" ,\"General Mills\",\"ITT Industries\",\"J.P.Morgan\",\"Lehman Brothers\",\"Marriott\",\"MCI\",\"Merrill Lynch\",\"Microsoft\",\"Morgan Stanley\",\"Sun Microsystems\",\"Travelers\",\"US Airways\",\"Warner-Lambert\"]\n",
        "   "
      ],
      "execution_count": 36,
      "outputs": []
    },
    {
      "cell_type": "code",
      "metadata": {
        "id": "Kv7eswJVlQ9Y"
      },
      "source": [
        "b=pd.Series([24.23,25.53,25.41,24.14,29.62,28.25,25.81,24.39,40.26,32.95,91.36,25.99,39.42,26.71,35])\n"
      ],
      "execution_count": 26,
      "outputs": []
    },
    {
      "cell_type": "code",
      "metadata": {
        "colab": {
          "base_uri": "https://localhost:8080/"
        },
        "id": "TBg11khItYat",
        "outputId": "b11e7728-5d7d-4966-8dec-1a4bcfe96fd3"
      },
      "source": [
        "sorted(b)   "
      ],
      "execution_count": 42,
      "outputs": [
        {
          "output_type": "execute_result",
          "data": {
            "text/plain": [
              "[24.14,\n",
              " 24.23,\n",
              " 24.39,\n",
              " 25.41,\n",
              " 25.53,\n",
              " 25.81,\n",
              " 25.99,\n",
              " 26.71,\n",
              " 28.25,\n",
              " 29.62,\n",
              " 32.95,\n",
              " 35.0,\n",
              " 39.42,\n",
              " 40.26,\n",
              " 91.36]"
            ]
          },
          "metadata": {},
          "execution_count": 42
        }
      ]
    },
    {
      "cell_type": "code",
      "metadata": {
        "colab": {
          "base_uri": "https://localhost:8080/",
          "height": 336
        },
        "id": "PffotQ6Lizth",
        "outputId": "f1c5bf4b-11e1-429c-81f4-5e49a8251688"
      },
      "source": [
        "sns.boxplot(b)"
      ],
      "execution_count": 27,
      "outputs": [
        {
          "output_type": "stream",
          "name": "stderr",
          "text": [
            "/usr/local/lib/python3.7/dist-packages/seaborn/_decorators.py:43: FutureWarning: Pass the following variable as a keyword arg: x. From version 0.12, the only valid positional argument will be `data`, and passing other arguments without an explicit keyword will result in an error or misinterpretation.\n",
            "  FutureWarning\n"
          ]
        },
        {
          "output_type": "execute_result",
          "data": {
            "text/plain": [
              "<matplotlib.axes._subplots.AxesSubplot at 0x7f2e24039750>"
            ]
          },
          "metadata": {},
          "execution_count": 27
        },
        {
          "output_type": "display_data",
          "data": {
            "image/png": "[encoded data removed]",
            "text/plain": [
              "<Figure size 432x288 with 1 Axes>"
            ]
          },
          "metadata": {
            "needs_background": "light"
          }
        }
      ]
    },
    {
      "cell_type": "code",
      "metadata": {
        "colab": {
          "base_uri": "https://localhost:8080/"
        },
        "id": "4CF2cDpjm2JH",
        "outputId": "945c28d9-759e-4d6b-fe04-45083b44ade6"
      },
      "source": [
        "mean(b)"
      ],
      "execution_count": 28,
      "outputs": [
        {
          "output_type": "execute_result",
          "data": {
            "text/plain": [
              "33.27133333333333"
            ]
          },
          "metadata": {},
          "execution_count": 28
        }
      ]
    },
    {
      "cell_type": "code",
      "metadata": {
        "colab": {
          "base_uri": "https://localhost:8080/"
        },
        "id": "i4eEZj0Vm7CG",
        "outputId": "c0103591-fedb-42b8-a70a-7aa1d94c71c8"
      },
      "source": [
        "variance(b)"
      ],
      "execution_count": 29,
      "outputs": [
        {
          "output_type": "execute_result",
          "data": {
            "text/plain": [
              "287.1466123809524"
            ]
          },
          "metadata": {},
          "execution_count": 29
        }
      ]
    },
    {
      "cell_type": "code",
      "metadata": {
        "colab": {
          "base_uri": "https://localhost:8080/"
        },
        "id": "1KgyK4dmm9sN",
        "outputId": "a23d336b-cbdc-410a-8a57-94ac14630c07"
      },
      "source": [
        "stdev(b)"
      ],
      "execution_count": 30,
      "outputs": [
        {
          "output_type": "execute_result",
          "data": {
            "text/plain": [
              "16.945400921222028"
            ]
          },
          "metadata": {},
          "execution_count": 30
        }
      ]
    },
    {
      "cell_type": "code",
      "metadata": {
        "colab": {
          "base_uri": "https://localhost:8080/"
        },
        "id": "A1qPGm8Zp1Z2",
        "outputId": "003d4acb-f77f-4b6f-8ff5-f0d983a51e88"
      },
      "source": [
        "b.median()      #Q2     formula Q2=1/2*(no.of values +1)=1/2*(15+1)=8th term in ascending order"
      ],
      "execution_count": 40,
      "outputs": [
        {
          "output_type": "execute_result",
          "data": {
            "text/plain": [
              "26.71"
            ]
          },
          "metadata": {},
          "execution_count": 40
        }
      ]
    },
    {
      "cell_type": "code",
      "metadata": {
        "id": "AdcbzLOO0hVa"
      },
      "source": [
        ""
      ],
      "execution_count": null,
      "outputs": []
    },
    {
      "cell_type": "code",
      "metadata": {
        "id": "NJa7k75VqDeN"
      },
      "source": [
        "#Lower quartile q1\n",
        "#1/4*(n+1)=1/4*16= 4th term in ascending order=25.41"
      ],
      "execution_count": null,
      "outputs": []
    },
    {
      "cell_type": "code",
      "metadata": {
        "id": "YmHX3lRiuAVE"
      },
      "source": [
        "#upper quartile Q3\n",
        "#3/4*(16)=12th term=35"
      ],
      "execution_count": null,
      "outputs": []
    },
    {
      "cell_type": "code",
      "metadata": {
        "colab": {
          "base_uri": "https://localhost:8080/"
        },
        "id": "i0tDhFB_u560",
        "outputId": "6d6a0d6b-5234-4bc6-9bf9-50cdd4e4ad56"
      },
      "source": [
        "# Inner quartile range IQR\n",
        "#IQR=Q3-Q1=35-25.41\n",
        "35-25.41"
      ],
      "execution_count": 43,
      "outputs": [
        {
          "output_type": "execute_result",
          "data": {
            "text/plain": [
              "9.59"
            ]
          },
          "metadata": {},
          "execution_count": 43
        }
      ]
    },
    {
      "cell_type": "code",
      "metadata": {
        "colab": {
          "base_uri": "https://localhost:8080/"
        },
        "id": "YX0FT1Lsyyc7",
        "outputId": "89c80f31-19a8-4f09-b33e-271a79f0f79b"
      },
      "source": [
        "###lower limit=q1-1.5*IQR\n",
        "###upper limit=q3+1.5*IQR\n",
        "25.41-1.5*(9.59)=11.025\n",
        "##35+1.5*(9.59)=49.385\n"
      ],
      "execution_count": 47,
      "outputs": [
        {
          "output_type": "execute_result",
          "data": {
            "text/plain": [
              "11.025"
            ]
          },
          "metadata": {},
          "execution_count": 47
        }
      ]
    },
    {
      "cell_type": "code",
      "metadata": {
        "id": "58-VyCeXzlIJ"
      },
      "source": [
        "#### Since upper limit is 49.358 ... the 91.36 is outlier"
      ],
      "execution_count": null,
      "outputs": []
    },
    {
      "cell_type": "code",
      "metadata": {
        "colab": {
          "base_uri": "https://localhost:8080/",
          "height": 296
        },
        "id": "iDqDFEpyn1pO",
        "outputId": "b976cabd-e210-4ab0-f502-3fa90384a779"
      },
      "source": [
        "plt.plot(a,b)\n",
        "plt.xlabel(\"companies\")\n",
        "plt.ylabel(\"Measures\")\n",
        "fig=plt.figure(figsize=(15,3))"
      ],
      "execution_count": 37,
      "outputs": [
        {
          "output_type": "display_data",
          "data": {
            "image/png": "[encoded data removed]",
            "text/plain": [
              "<Figure size 432x288 with 1 Axes>"
            ]
          },
          "metadata": {
            "needs_background": "light"
          }
        },
        {
          "output_type": "display_data",
          "data": {
            "text/plain": [
              "<Figure size 1080x216 with 0 Axes>"
            ]
          },
          "metadata": {}
        }
      ]
    }
  ]
}