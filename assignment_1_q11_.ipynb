{
  "nbformat": 4,
  "nbformat_minor": 0,
  "metadata": {
    "colab": {
      "name": "assignment 1 q11 .ipynb",
      "provenance": [],
      "collapsed_sections": [],
      "authorship_tag": "ABX9TyMbye8LiPCe+Cg4cg+Ra1S/",
      "include_colab_link": true
    },
    "kernelspec": {
      "name": "python3",
      "display_name": "Python 3"
    },
    "language_info": {
      "name": "python"
    }
  },
  "cells": [
    {
      "cell_type": "markdown",
      "metadata": {
        "id": "view-in-github",
        "colab_type": "text"
      },
      "source": [
        "<a href=\"https://colab.research.google.com/github/gurpinder95/Basic-assignments1/blob/main/assignment_1_q11_.ipynb\" target=\"_parent\"><img src=\"https://colab.research.google.com/assets/colab-badge.svg\" alt=\"Open In Colab\"/></a>"
      ]
    },
    {
      "cell_type": "code",
      "metadata": {
        "id": "WywiFBBXuxWO"
      },
      "source": [
        "#Suppose we want to estimate the average weight of an adult male in    Mexico. We draw a random sample of 2,000 men from a population of 3,000,000 men and weigh them.\n",
        "# We find that the average person in our sample weighs 200 pounds, and the standard deviation of the sample is 30 pounds. Calculate 94%,98%,96% confidence interval ?"
      ],
      "execution_count": null,
      "outputs": []
    },
    {
      "cell_type": "code",
      "metadata": {
        "id": "u8kMwIOxvTmj"
      },
      "source": [
        "import pandas as pd\n",
        "import numpy as np\n",
        "from scipy import stats"
      ],
      "execution_count": 5,
      "outputs": []
    },
    {
      "cell_type": "code",
      "metadata": {
        "id": "EeuJsQkTu37k"
      },
      "source": [
        "#here we dont have point estimate ,we will do this by below method "
      ],
      "execution_count": 17,
      "outputs": []
    },
    {
      "cell_type": "code",
      "metadata": {
        "colab": {
          "base_uri": "https://localhost:8080/"
        },
        "id": "4zS25tVZvJHD",
        "outputId": "0cd9b183-a680-433b-9ce3-98a776bce3e4"
      },
      "source": [
        "print(stats.t.ppf(0.98,df=1999))       #for 96 percent confidence\n",
        "print(stats.t.ppf(0.97,df=1999))       #for 94 \n",
        "print(stats.t.ppf(0.99,df=1999))        # for 98 "
      ],
      "execution_count": 19,
      "outputs": [
        {
          "output_type": "stream",
          "text": [
            "2.055089962825778\n",
            "1.8818614764780113\n",
            "2.328214776106972\n"
          ],
          "name": "stdout"
        }
      ]
    },
    {
      "cell_type": "code",
      "metadata": {
        "colab": {
          "base_uri": "https://localhost:8080/"
        },
        "id": "ViNvyo3AvvDl",
        "outputId": "de3d4552-ed1c-4f3d-dcc8-6e1112010e17"
      },
      "source": [
        "30/(np.sqrt(2000))    #standard error formula (std/sqrt n)"
      ],
      "execution_count": 10,
      "outputs": [
        {
          "output_type": "execute_result",
          "data": {
            "text/plain": [
              "0.6708203932499369"
            ]
          },
          "metadata": {},
          "execution_count": 10
        }
      ]
    },
    {
      "cell_type": "code",
      "metadata": {
        "colab": {
          "base_uri": "https://localhost:8080/"
        },
        "id": "Wr1jgbRW1oq2",
        "outputId": "3ad57fcd-a810-441c-b778-44d3fce1bffc"
      },
      "source": [
        "2.055*0.6708          # Margin of error (t value* std error )"
      ],
      "execution_count": 15,
      "outputs": [
        {
          "output_type": "execute_result",
          "data": {
            "text/plain": [
              "1.378494"
            ]
          },
          "metadata": {},
          "execution_count": 15
        }
      ]
    },
    {
      "cell_type": "code",
      "metadata": {
        "colab": {
          "base_uri": "https://localhost:8080/"
        },
        "id": "-p1L-VhD1x50",
        "outputId": "aa0c4da5-dd5a-4b25-b3c9-a8125c2b5ba4"
      },
      "source": [
        "200+1.378494 ,200-1.378494"
      ],
      "execution_count": 16,
      "outputs": [
        {
          "output_type": "execute_result",
          "data": {
            "text/plain": [
              "(201.378494, 198.621506)"
            ]
          },
          "metadata": {},
          "execution_count": 16
        }
      ]
    },
    {
      "cell_type": "code",
      "metadata": {
        "colab": {
          "base_uri": "https://localhost:8080/"
        },
        "id": "GxYuCfzV4CNH",
        "outputId": "892125ad-33bd-46b6-caef-2ec2007d78ac"
      },
      "source": [
        "# One more simple method\n",
        "\n",
        "#Confidence interval for 94\n",
        "stats.norm.interval(0.94,200,30/np.sqrt(2000))"
      ],
      "execution_count": 21,
      "outputs": [
        {
          "output_type": "execute_result",
          "data": {
            "text/plain": [
              "(198.738325292158, 201.261674707842)"
            ]
          },
          "metadata": {},
          "execution_count": 21
        }
      ]
    },
    {
      "cell_type": "code",
      "metadata": {
        "colab": {
          "base_uri": "https://localhost:8080/"
        },
        "id": "XeAqzfLR8vH4",
        "outputId": "0d75d5fb-4ce3-4a3b-d3b6-3ab3b546103b"
      },
      "source": [
        "#Confidence interval for 98\n",
        "stats.norm.interval(0.98,200,30/np.sqrt(2000))"
      ],
      "execution_count": 22,
      "outputs": [
        {
          "output_type": "execute_result",
          "data": {
            "text/plain": [
              "(198.43943840429978, 201.56056159570022)"
            ]
          },
          "metadata": {},
          "execution_count": 22
        }
      ]
    },
    {
      "cell_type": "code",
      "metadata": {
        "colab": {
          "base_uri": "https://localhost:8080/"
        },
        "id": "FC21_kjp9nGO",
        "outputId": "4dc98beb-67a9-424d-cccd-ac3431055db4"
      },
      "source": [
        "#Confidence interval for 96\n",
        "stats.norm.interval(0.96,200,30/np.sqrt(2000))"
      ],
      "execution_count": 24,
      "outputs": [
        {
          "output_type": "execute_result",
          "data": {
            "text/plain": [
              "(198.62230334813333, 201.37769665186667)"
            ]
          },
          "metadata": {},
          "execution_count": 24
        }
      ]
    }
  ]
}