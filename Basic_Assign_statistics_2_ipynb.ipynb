{
  "nbformat": 4,
  "nbformat_minor": 0,
  "metadata": {
    "colab": {
      "name": "Basic Assign stats 2 ipynb",
      "provenance": [],
      "collapsed_sections": [],
      "authorship_tag": "ABX9TyM9UPMTMZ1kmL6zitFdKmk1",
      "include_colab_link": true
    },
    "kernelspec": {
      "name": "python3",
      "display_name": "Python 3"
    },
    "language_info": {
      "name": "python"
    }
  },
  "cells": [
    {
      "cell_type": "markdown",
      "metadata": {
        "id": "view-in-github",
        "colab_type": "text"
      },
      "source": [
        "<a href=\"https://colab.research.google.com/github/gurpinder95/Basic-assignments1/blob/main/Basic_Assign_statistics_2_ipynb.ipynb\" target=\"_parent\"><img src=\"https://colab.research.google.com/assets/colab-badge.svg\" alt=\"Open In Colab\"/></a>"
      ]
    },
    {
      "cell_type": "code",
      "metadata": {
        "id": "ouUi1Borf_vn"
      },
      "source": [
        "import pandas as pd\n",
        "import numpy as np\n",
        "from scipy import stats\n",
        "from statistics import mean,stdev,variance\n",
        "import seaborn as sns\n",
        "import matplotlib.pyplot as plt\n"
      ],
      "execution_count": 2,
      "outputs": []
    },
    {
      "cell_type": "markdown",
      "metadata": {
        "id": "E6pSUO-2_V-m"
      },
      "source": [
        "Q1.AT&T was running commercials in 1990 aimed at luring back customers who had switched to one of the other long-distance phone service providers. One such commercial shows a businessman trying to reach Phoenix and mistakenly getting Fiji, where a half-naked native on a beach responds incomprehensibly in Polynesian. When asked about this advertisement, AT&T admitted that the portrayed incident did not actually take place but added that this was an enactment of something that “could happen.” Suppose that one in 200 long-distance telephone calls is misdirected. What is the probability that at least one in five attempted telephone calls reaches the wrong number? (Assume independence of attempts.)"
      ]
    },
    {
      "cell_type": "code",
      "metadata": {
        "id": "wSi4yhUPgjoZ"
      },
      "source": [
        "\n",
        "a=[\" Allied Signal \" ,\" Bankers Trust\" ,\"General Mills\",\"ITT Industries\",\"J.P.Morgan\",\"Lehman Brothers\",\"Marriott\",\"MCI\",\"Merrill Lynch\",\"Microsoft\",\"Morgan Stanley\",\"Sun Microsystems\",\"Travelers\",\"US Airways\",\"Warner-Lambert\"]\n",
        "   "
      ],
      "execution_count": null,
      "outputs": []
    },
    {
      "cell_type": "code",
      "metadata": {
        "id": "Kv7eswJVlQ9Y"
      },
      "source": [
        "b=pd.Series([24.23,25.53,25.41,24.14,29.62,28.25,25.81,24.39,40.26,32.95,91.36,25.99,39.42,26.71,35])\n"
      ],
      "execution_count": null,
      "outputs": []
    },
    {
      "cell_type": "code",
      "metadata": {
        "colab": {
          "base_uri": "https://localhost:8080/"
        },
        "id": "TBg11khItYat",
        "outputId": "b11e7728-5d7d-4966-8dec-1a4bcfe96fd3"
      },
      "source": [
        "sorted(b)   "
      ],
      "execution_count": null,
      "outputs": [
        {
          "output_type": "execute_result",
          "data": {
            "text/plain": [
              "[24.14,\n",
              " 24.23,\n",
              " 24.39,\n",
              " 25.41,\n",
              " 25.53,\n",
              " 25.81,\n",
              " 25.99,\n",
              " 26.71,\n",
              " 28.25,\n",
              " 29.62,\n",
              " 32.95,\n",
              " 35.0,\n",
              " 39.42,\n",
              " 40.26,\n",
              " 91.36]"
            ]
          },
          "metadata": {},
          "execution_count": 42
        }
      ]
    },
    {
      "cell_type": "code",
      "metadata": {
        "colab": {
          "base_uri": "https://localhost:8080/",
          "height": 336
        },
        "id": "PffotQ6Lizth",
        "outputId": "f1c5bf4b-11e1-429c-81f4-5e49a8251688"
      },
      "source": [
        "sns.boxplot(b)"
      ],
      "execution_count": null,
      "outputs": [
        {
          "output_type": "stream",
          "name": "stderr",
          "text": [
            "/usr/local/lib/python3.7/dist-packages/seaborn/_decorators.py:43: FutureWarning: Pass the following variable as a keyword arg: x. From version 0.12, the only valid positional argument will be `data`, and passing other arguments without an explicit keyword will result in an error or misinterpretation.\n",
            "  FutureWarning\n"
          ]
        },
        {
          "output_type": "execute_result",
          "data": {
            "text/plain": [
              "<matplotlib.axes._subplots.AxesSubplot at 0x7f2e24039750>"
            ]
          },
          "metadata": {},
          "execution_count": 27
        },
        {
          "output_type": "display_data",
          "data": {
            "image/png": "[encoded data removed]",
            "text/plain": [
              "<Figure size 432x288 with 1 Axes>"
            ]
          },
          "metadata": {
            "needs_background": "light"
          }
        }
      ]
    },
    {
      "cell_type": "code",
      "metadata": {
        "colab": {
          "base_uri": "https://localhost:8080/"
        },
        "id": "4CF2cDpjm2JH",
        "outputId": "945c28d9-759e-4d6b-fe04-45083b44ade6"
      },
      "source": [
        "mean(b)"
      ],
      "execution_count": null,
      "outputs": [
        {
          "output_type": "execute_result",
          "data": {
            "text/plain": [
              "33.27133333333333"
            ]
          },
          "metadata": {},
          "execution_count": 28
        }
      ]
    },
    {
      "cell_type": "code",
      "metadata": {
        "colab": {
          "base_uri": "https://localhost:8080/"
        },
        "id": "i4eEZj0Vm7CG",
        "outputId": "c0103591-fedb-42b8-a70a-7aa1d94c71c8"
      },
      "source": [
        "variance(b)"
      ],
      "execution_count": null,
      "outputs": [
        {
          "output_type": "execute_result",
          "data": {
            "text/plain": [
              "287.1466123809524"
            ]
          },
          "metadata": {},
          "execution_count": 29
        }
      ]
    },
    {
      "cell_type": "code",
      "metadata": {
        "colab": {
          "base_uri": "https://localhost:8080/"
        },
        "id": "1KgyK4dmm9sN",
        "outputId": "a23d336b-cbdc-410a-8a57-94ac14630c07"
      },
      "source": [
        "stdev(b)"
      ],
      "execution_count": null,
      "outputs": [
        {
          "output_type": "execute_result",
          "data": {
            "text/plain": [
              "16.945400921222028"
            ]
          },
          "metadata": {},
          "execution_count": 30
        }
      ]
    },
    {
      "cell_type": "code",
      "metadata": {
        "colab": {
          "base_uri": "https://localhost:8080/"
        },
        "id": "A1qPGm8Zp1Z2",
        "outputId": "003d4acb-f77f-4b6f-8ff5-f0d983a51e88"
      },
      "source": [
        "b.median()      #Q2     formula Q2=1/2*(no.of values +1)=1/2*(15+1)=8th term in ascending order"
      ],
      "execution_count": null,
      "outputs": [
        {
          "output_type": "execute_result",
          "data": {
            "text/plain": [
              "26.71"
            ]
          },
          "metadata": {},
          "execution_count": 40
        }
      ]
    },
    {
      "cell_type": "code",
      "metadata": {
        "id": "AdcbzLOO0hVa"
      },
      "source": [
        ""
      ],
      "execution_count": null,
      "outputs": []
    },
    {
      "cell_type": "code",
      "metadata": {
        "id": "NJa7k75VqDeN"
      },
      "source": [
        "#Lower quartile q1\n",
        "#1/4*(n+1)=1/4*16= 4th term in ascending order=25.41"
      ],
      "execution_count": null,
      "outputs": []
    },
    {
      "cell_type": "code",
      "metadata": {
        "id": "YmHX3lRiuAVE"
      },
      "source": [
        "#upper quartile Q3\n",
        "#3/4*(16)=12th term=35"
      ],
      "execution_count": null,
      "outputs": []
    },
    {
      "cell_type": "code",
      "metadata": {
        "colab": {
          "base_uri": "https://localhost:8080/"
        },
        "id": "i0tDhFB_u560",
        "outputId": "6d6a0d6b-5234-4bc6-9bf9-50cdd4e4ad56"
      },
      "source": [
        "# Inner quartile range IQR\n",
        "#IQR=Q3-Q1=35-25.41\n",
        "35-25.41"
      ],
      "execution_count": null,
      "outputs": [
        {
          "output_type": "execute_result",
          "data": {
            "text/plain": [
              "9.59"
            ]
          },
          "metadata": {},
          "execution_count": 43
        }
      ]
    },
    {
      "cell_type": "code",
      "metadata": {
        "colab": {
          "base_uri": "https://localhost:8080/"
        },
        "id": "YX0FT1Lsyyc7",
        "outputId": "89c80f31-19a8-4f09-b33e-271a79f0f79b"
      },
      "source": [
        "###lower limit=q1-1.5*IQR\n",
        "###upper limit=q3+1.5*IQR\n",
        "25.41-1.5*(9.59)=11.025\n",
        "##35+1.5*(9.59)=49.385\n"
      ],
      "execution_count": null,
      "outputs": [
        {
          "output_type": "execute_result",
          "data": {
            "text/plain": [
              "11.025"
            ]
          },
          "metadata": {},
          "execution_count": 47
        }
      ]
    },
    {
      "cell_type": "code",
      "metadata": {
        "id": "58-VyCeXzlIJ"
      },
      "source": [
        "#### Since upper limit is 49.358 ... the 91.36 is outlier"
      ],
      "execution_count": null,
      "outputs": []
    },
    {
      "cell_type": "code",
      "metadata": {
        "colab": {
          "base_uri": "https://localhost:8080/",
          "height": 296
        },
        "id": "iDqDFEpyn1pO",
        "outputId": "b976cabd-e210-4ab0-f502-3fa90384a779"
      },
      "source": [
        "plt.plot(a,b)\n",
        "plt.xlabel(\"companies\")\n",
        "plt.ylabel(\"Measures\")\n",
        "fig=plt.figure(figsize=(15,3))"
      ],
      "execution_count": null,
      "outputs": [
        {
          "output_type": "display_data",
          "data": {
            "image/png": "[encoded data removed]",
            "text/plain": [
              "<Figure size 432x288 with 1 Axes>"
            ]
          },
          "metadata": {
            "needs_background": "light"
          }
        },
        {
          "output_type": "display_data",
          "data": {
            "text/plain": [
              "<Figure size 1080x216 with 0 Axes>"
            ]
          },
          "metadata": {}
        }
      ]
    },
    {
      "cell_type": "markdown",
      "metadata": {
        "id": "YoM_nHtZ_fw9"
      },
      "source": [
        "Q4.AT&T was running commercials in 1990 aimed at luring back customers who had switched to one of the other long-distance phone service providers. One such commercial shows a businessman trying to reach Phoenix and mistakenly getting Fiji, where a half-naked native on a beach responds incomprehensibly in Polynesian. When asked about this advertisement, AT&T admitted that the portrayed incident did not actually take place but added that this was an enactment of something that “could happen.” Suppose that one in 200 long-distance telephone calls is misdirected. What is the probability that at least one in five attempted telephone calls reaches the wrong number? (Assume independence of attempts.)"
      ]
    },
    {
      "cell_type": "code",
      "metadata": {
        "id": "y0wxe31G_kz8"
      },
      "source": [
        "n=5"
      ],
      "execution_count": null,
      "outputs": []
    },
    {
      "cell_type": "markdown",
      "metadata": {
        "id": "q6mujPUY_uD1"
      },
      "source": [
        "proability of one out of 200 calls is misdirected=1/200=p\n",
        "\n",
        "probabilyt of call not misdirected=1-p=1-1/200=199/200=q"
      ]
    },
    {
      "cell_type": "code",
      "metadata": {
        "id": "JtvxdJEVAEla",
        "colab": {
          "base_uri": "https://localhost:8080/"
        },
        "outputId": "cedf0159-96a1-4215-d06a-49367eeebb51"
      },
      "source": [
        "#p(x)=1-(1/200)^0*(199/200)^5       binomial probability=5C p^n*q^n-x\n",
        "\n",
        "###3(1-(1/200)^0*(199/200)^5)\n",
        "\n",
        "\n",
        "1-1*(199/200)*(199/200)*(199/200)*(199/200)*(199/200)"
      ],
      "execution_count": null,
      "outputs": [
        {
          "output_type": "execute_result",
          "data": {
            "text/plain": [
              "0.02475124687812491"
            ]
          },
          "metadata": {},
          "execution_count": 11
        }
      ]
    },
    {
      "cell_type": "markdown",
      "metadata": {
        "id": "t22cnjc8F3VQ"
      },
      "source": [
        ""
      ]
    },
    {
      "cell_type": "markdown",
      "metadata": {
        "id": "P55690IeB3sk"
      },
      "source": [
        "Q5.Returns on a certain business venture, to the nearest $1,000, are known to follow the following probability distribution\n"
      ]
    },
    {
      "cell_type": "code",
      "metadata": {
        "id": "-c9oLMwPCA2M"
      },
      "source": [
        "##most likely monetary income is where probability is highet which is 0.3=2000"
      ],
      "execution_count": null,
      "outputs": []
    },
    {
      "cell_type": "code",
      "metadata": {
        "id": "ZhIEls6KCjvD"
      },
      "source": [
        "##for the busuiness to be suuceesful we will check the probability of profit (p>0)\n",
        "\n",
        "0.3+0.2+0.1=0.6"
      ],
      "execution_count": null,
      "outputs": []
    },
    {
      "cell_type": "code",
      "metadata": {
        "colab": {
          "base_uri": "https://localhost:8080/"
        },
        "id": "-woixEvaC9vc",
        "outputId": "bac5b8a6-99ce-46eb-c9e8-ccc6098a9201"
      },
      "source": [
        "### long term average we need to calculate expected mean\n",
        "\n",
        "(0.1*-2000)+(0.1*-1000)+(0.2*0)+(0.2*1000)+(0.3*2000)+(0.1*3000)"
      ],
      "execution_count": null,
      "outputs": [
        {
          "output_type": "execute_result",
          "data": {
            "text/plain": [
              "800.0"
            ]
          },
          "metadata": {},
          "execution_count": 49
        }
      ]
    },
    {
      "cell_type": "code",
      "metadata": {
        "id": "3rTKtbsjWKww"
      },
      "source": [
        "### what is good measure of risk involve\n",
        "##probability=0.2"
      ],
      "execution_count": null,
      "outputs": []
    },
    {
      "cell_type": "markdown",
      "metadata": {
        "id": "crtkbX1zUrsw"
      },
      "source": [
        "SET 2\n",
        "Topics: Normal distribution, Functions of Random Variables \n",
        "\n"
      ]
    },
    {
      "cell_type": "markdown",
      "metadata": {
        "id": "fEsNIk3aT8ln"
      },
      "source": [
        "Q1.The time required for servicing transmissions is normally distributed with  mean= 45 minutes and std = 8 minutes. The service manager plans to have work begin on the transmission of a customer’s car 10 minutes after the car is dropped off and the customer is told that the car will be ready within 1 hour from drop-off. What is the probability that the service manager cannot meet his commitment? "
      ]
    },
    {
      "cell_type": "code",
      "metadata": {
        "colab": {
          "base_uri": "https://localhost:8080/"
        },
        "id": "ctAgigEOWiY_",
        "outputId": "79ca70f1-34c0-4823-9a23-9d460f51e74c"
      },
      "source": [
        "#### Here the work starts after 10 mins ,so we have have 50 mins to complete the work. So probability of manager not completing his commitment is 1-P\n",
        "1-stats.norm.cdf(50,loc=45,scale=8)   "
      ],
      "execution_count": null,
      "outputs": [
        {
          "output_type": "execute_result",
          "data": {
            "text/plain": [
              "0.26598552904870054"
            ]
          },
          "metadata": {},
          "execution_count": 2
        }
      ]
    },
    {
      "cell_type": "markdown",
      "metadata": {
        "id": "hI8ISMJtrKUo"
      },
      "source": [
        "2.The current age (in years) of 400 clerical employees at an insurance claims processing center is normally distributed with mean  = 38 and Standard deviation  =6. For each statement below, please specify True/False. If false, briefly explain why.\n",
        "\n",
        "A.More employees at the processing center are older than 44 than between 38 and 44.\n",
        "\n",
        "B.A training program for employees under the age of 30 at the center would be expected to attract about 36 employees."
      ]
    },
    {
      "cell_type": "code",
      "metadata": {
        "id": "d-rPbXeVrLfs",
        "colab": {
          "base_uri": "https://localhost:8080/"
        },
        "outputId": "a2eed5b4-b118-45b4-f97d-e5bdcef7ff19"
      },
      "source": [
        "1-stats.norm.cdf(44,loc=38,scale=6)    ### More employes are older than 44 probability P(X>44)"
      ],
      "execution_count": null,
      "outputs": [
        {
          "output_type": "execute_result",
          "data": {
            "text/plain": [
              "0.15865525393145707"
            ]
          },
          "metadata": {},
          "execution_count": 4
        }
      ]
    },
    {
      "cell_type": "code",
      "metadata": {
        "colab": {
          "base_uri": "https://localhost:8080/"
        },
        "id": "093YvvwKOUpI",
        "outputId": "b261727d-2645-48cf-fc08-aaf56074dfef"
      },
      "source": [
        "stats.norm.cdf(44,loc=38,scale=6)-stats.norm.cdf(38,loc=38,scale=6)                         #### probability of employees between 38 and 44..we need to minus both probability P(38<X<44)"
      ],
      "execution_count": null,
      "outputs": [
        {
          "output_type": "execute_result",
          "data": {
            "text/plain": [
              "0.3413447460685429"
            ]
          },
          "metadata": {},
          "execution_count": 7
        }
      ]
    },
    {
      "cell_type": "markdown",
      "metadata": {
        "id": "qEoxNn_fReko"
      },
      "source": [
        "Since 0.341 is greater more employees are between 38 and 44  ,hence employes oler than 44 is false"
      ]
    },
    {
      "cell_type": "code",
      "metadata": {
        "colab": {
          "base_uri": "https://localhost:8080/"
        },
        "id": "q2S8o8YfRnfu",
        "outputId": "0797402c-1e54-463b-bd42-c8fe654e4d51"
      },
      "source": [
        "### A training program for employees under the age of 30 at the center would be expected to attract about 36 employees.\n",
        "\n",
        "stats.norm.cdf(30,loc=38,scale=6)"
      ],
      "execution_count": null,
      "outputs": [
        {
          "output_type": "execute_result",
          "data": {
            "text/plain": [
              "0.09121121972586788"
            ]
          },
          "metadata": {},
          "execution_count": 8
        }
      ]
    },
    {
      "cell_type": "code",
      "metadata": {
        "colab": {
          "base_uri": "https://localhost:8080/"
        },
        "id": "fLAiIXB2T1rI",
        "outputId": "acb4df17-98af-4e43-a560-76f21acae3cd"
      },
      "source": [
        "## there are totol 400 employees so multiplying 400 with probability value\n",
        "\n",
        "400*0.09121   ### Hence this statement is true"
      ],
      "execution_count": null,
      "outputs": [
        {
          "output_type": "execute_result",
          "data": {
            "text/plain": [
              "36.484"
            ]
          },
          "metadata": {},
          "execution_count": 9
        }
      ]
    },
    {
      "cell_type": "markdown",
      "metadata": {
        "id": "0DgtDVSSVHvi"
      },
      "source": [
        "Q3.If X1 ~ N(μ, σ2) and X2 ~ N(μ, σ2) are iid normal random variables, then what is the difference between 2 X1 and X1 + X2? Discuss both their distributions and parameters.    "
      ]
    },
    {
      "cell_type": "code",
      "metadata": {
        "id": "ifWi9tl_VKGN"
      },
      "source": [
        ""
      ],
      "execution_count": null,
      "outputs": []
    },
    {
      "cell_type": "markdown",
      "metadata": {
        "id": "N3KeyH-6VRjN"
      },
      "source": [
        "Q4.Let X ~ N(100, 20^2). Find two values a and b, symmetric about the mean, such that the probability of the random variable taking a value between them is 0.99."
      ]
    },
    {
      "cell_type": "code",
      "metadata": {
        "colab": {
          "base_uri": "https://localhost:8080/"
        },
        "id": "q27cE9gdVTFW",
        "outputId": "ec41be70-caf0-4b08-dc70-aa7907c39c45"
      },
      "source": [
        "## It means X~(Mean,Variance)    sqroot of variance= Stdev \n",
        "\n",
        "stats.norm.interval(0.99,loc=100,scale=20)       ##a=48.48,b=151.51"
      ],
      "execution_count": null,
      "outputs": [
        {
          "output_type": "execute_result",
          "data": {
            "text/plain": [
              "(48.48341392902199, 151.516586070978)"
            ]
          },
          "metadata": {},
          "execution_count": 12
        }
      ]
    },
    {
      "cell_type": "markdown",
      "metadata": {
        "id": "1DxYyHXkYIS1"
      },
      "source": [
        "Q5.Consider a company that has two different divisions. The annual profits from the two divisions are independent and have distributions Profit1 ~ N(5, 3^2) and Profit2 ~ N(7, 4^2) respectively. Both the profits are in $ Million. Answer the following questions about the total profit of the company in Rupees. Assume that $1 = Rs. 45\n",
        "\n",
        "A.Specify a Rupee range (centered on the mean) such that it contains 95% probability for the annual profit of the company.\n",
        "\n",
        "B.Specify the 5th percentile of profit (in Rupees) for the company\n",
        "\n",
        "C.Which of the two divisions has a larger probability of making a loss in a given year\n"
      ]
    },
    {
      "cell_type": "code",
      "metadata": {
        "colab": {
          "base_uri": "https://localhost:8080/"
        },
        "id": "CqBp9aoIW94v",
        "outputId": "fa810c80-6f9d-43d4-8882-ef66a7bba739"
      },
      "source": [
        "## Here profit1~N(5,3^2) + profit2~N(7,4^2) willl add both to get combined profit of company \n",
        "## mean is 5+7=12 =mean=Z ... convert in rupeees\n",
        "print(12*45)\n",
        "# variance of profit1+profit2=9+16=25   so std =5\n",
        "print(5*45)"
      ],
      "execution_count": null,
      "outputs": [
        {
          "output_type": "stream",
          "name": "stdout",
          "text": [
            "540\n",
            "225\n"
          ]
        }
      ]
    },
    {
      "cell_type": "code",
      "metadata": {
        "colab": {
          "base_uri": "https://localhost:8080/"
        },
        "id": "xH9yO4edgsBd",
        "outputId": "d7f928c0-c5f9-492e-d78b-966a15ceff81"
      },
      "source": [
        "#A.Specify a Rupee range (centered on the mean) such that it contains 95% probability for the annual profit of the company.\n",
        "\n",
        "stats.norm.interval(0.95,540,225)"
      ],
      "execution_count": null,
      "outputs": [
        {
          "output_type": "execute_result",
          "data": {
            "text/plain": [
              "(99.00810347848784, 980.9918965215122)"
            ]
          },
          "metadata": {},
          "execution_count": 16
        }
      ]
    },
    {
      "cell_type": "code",
      "metadata": {
        "colab": {
          "base_uri": "https://localhost:8080/"
        },
        "id": "DFT4FWotiv7s",
        "outputId": "365025ac-5736-47d7-c6c6-e16fe7811ea3"
      },
      "source": [
        "#B.Specify the 5th percentile of profit (in Rupees) for the company    X=mean+Zscore*stdev\n",
        "\n",
        "print(stats.norm.ppf(0.05))\n",
        "#X=mean+Zscore*stdev\n",
        "print(540+(-1.64*225))"
      ],
      "execution_count": null,
      "outputs": [
        {
          "output_type": "stream",
          "name": "stdout",
          "text": [
            "-1.6448536269514729\n",
            "171.0\n"
          ]
        }
      ]
    },
    {
      "cell_type": "code",
      "metadata": {
        "colab": {
          "base_uri": "https://localhost:8080/"
        },
        "id": "8kqfXMr5k_qa",
        "outputId": "27140c3b-bbb2-4ac7-c54d-cf449f4e4a74"
      },
      "source": [
        "#C.Which of the two divisions has a larger probability of making a loss in a given year\n",
        "print(stats.norm.cdf(0,loc=5,scale=3))\n",
        "print(stats.norm.cdf(0,loc=7,scale=4))      ### division 1 has higher probabiliy of making "
      ],
      "execution_count": null,
      "outputs": [
        {
          "output_type": "stream",
          "name": "stdout",
          "text": [
            "0.0477903522728147\n",
            "0.040059156863817086\n"
          ]
        }
      ]
    },
    {
      "cell_type": "markdown",
      "metadata": {
        "id": "T2_9JETMq_bV"
      },
      "source": [
        "SET 3 confidence interval"
      ]
    },
    {
      "cell_type": "markdown",
      "metadata": {
        "id": "pdHCLYbYyjZj"
      },
      "source": [
        "Q5. B In January 2005, a company that monitors Internet traffic (WebSideStory) reported that its sampling revealed that the Mozilla Firefox browser launched in 2004 had grabbed a 4.6% share of the market.\n",
        "\n",
        "i) If the sample were based on 2,000 users, could Microsoft conclude that Mozilla has a less than 5% share of the market?\n",
        "\n",
        "ii) WebSideStory claims that its sample includes all the daily Internet users. If that’s the case, then can Microsoft conclude that Mozilla has a less than 5% share of the market?"
      ]
    },
    {
      "cell_type": "code",
      "metadata": {
        "id": "RAJpc-_vkryO"
      },
      "source": [
        "###Here the claim is it is less than 5 percent\n",
        "\n",
        "#H0 : p>=0.05\n",
        "##Ha :p<=0.05"
      ],
      "execution_count": null,
      "outputs": []
    },
    {
      "cell_type": "code",
      "metadata": {
        "id": "mZEn0w-YSDwO"
      },
      "source": [
        "p=0.05                           ### formula pbar-p(sqroot(p(1-p)/n))    will write pbar as q\n",
        "pbar=0.046\n",
        "n=2000"
      ],
      "execution_count": null,
      "outputs": []
    },
    {
      "cell_type": "code",
      "metadata": {
        "colab": {
          "base_uri": "https://localhost:8080/"
        },
        "id": "sHdzb15eSrme",
        "outputId": "218a1af1-3feb-4dca-c4d8-7628550bf82b"
      },
      "source": [
        "zscore=(0.046-0.05)/(np.sqrt((0.05*(1-0.05))/2000))\n",
        "print(zscore)"
      ],
      "execution_count": null,
      "outputs": [
        {
          "output_type": "stream",
          "name": "stdout",
          "text": [
            "-0.820782681668124\n"
          ]
        }
      ]
    },
    {
      "cell_type": "code",
      "metadata": {
        "colab": {
          "base_uri": "https://localhost:8080/"
        },
        "id": "JIscmkNeU5QU",
        "outputId": "2017f9a6-1b74-4af8-876d-b5349478c748"
      },
      "source": [
        "## 1 sample 1 tail test\n",
        "stats.norm.cdf(zscore)"
      ],
      "execution_count": null,
      "outputs": [
        {
          "output_type": "execute_result",
          "data": {
            "text/plain": [
              "0.20588503245107104"
            ]
          },
          "metadata": {},
          "execution_count": 62
        }
      ]
    },
    {
      "cell_type": "code",
      "metadata": {
        "id": "Kq5lkf0vb36k"
      },
      "source": [
        "#since our p value is greater than zero we can accept null i.e m0zilla has greate than 5 percent share"
      ],
      "execution_count": null,
      "outputs": []
    },
    {
      "cell_type": "markdown",
      "metadata": {
        "id": "7WU8AQh_SCE8"
      },
      "source": [
        "Questions 8 and 9 are based on the following: To prepare a report on the economy, analysts need to estimate the percentage of businesses that plan to hire additional employees in the next 60 days.\n",
        "\n",
        "8.How many randomly selected employers (minimum number) must we contact in order to guarantee a margin of error of no more than 4% (at 95% confidence)?\n",
        "\n",
        "A.600\n",
        "B.400\n",
        "C.550\n",
        "D.1000"
      ]
    },
    {
      "cell_type": "code",
      "metadata": {
        "colab": {
          "base_uri": "https://localhost:8080/"
        },
        "id": "76c0Nr5NRz2E",
        "outputId": "a0fdaa0e-9488-4296-af48-c198d506633e"
      },
      "source": [
        "## Here we are finding sample size n... and population proportion p bar is not given we will assume 0.5 for conservtive estimate\n",
        "\n",
        "# Formula n=(Z/Margin of error)^2*pbar(1-pbar) \n",
        "# Margin of error=0.04\n",
        "stats.norm.ppf(0.975)"
      ],
      "execution_count": 19,
      "outputs": [
        {
          "output_type": "execute_result",
          "data": {
            "text/plain": [
              "1.959963984540054"
            ]
          },
          "metadata": {},
          "execution_count": 19
        }
      ]
    },
    {
      "cell_type": "code",
      "metadata": {
        "id": "5NumS_KvSuFk"
      },
      "source": [
        "sample_n=(1.9599/0.04)*(1.96/0.04)*0.5*(1-0.5)"
      ],
      "execution_count": 28,
      "outputs": []
    },
    {
      "cell_type": "code",
      "metadata": {
        "colab": {
          "base_uri": "https://localhost:8080/"
        },
        "id": "XHLHacv1WDmD",
        "outputId": "8056c8e8-666d-4b14-9c7c-88be7a5ee300"
      },
      "source": [
        "sample_n"
      ],
      "execution_count": 29,
      "outputs": [
        {
          "output_type": "execute_result",
          "data": {
            "text/plain": [
              "600.2193749999999"
            ]
          },
          "metadata": {},
          "execution_count": 29
        }
      ]
    },
    {
      "cell_type": "markdown",
      "metadata": {
        "id": "jj9AAEeHYt_A"
      },
      "source": [
        "9.Suppose we want the above margin of error to be based on a 98% confidence level. What sample size (minimum) must we now use?\n",
        "\n",
        "A.1000\n",
        "B.757\n",
        "C.848\n",
        "D.543"
      ]
    },
    {
      "cell_type": "code",
      "metadata": {
        "colab": {
          "base_uri": "https://localhost:8080/"
        },
        "id": "Rd2qu4WqYq1A",
        "outputId": "b7c58057-8ee7-4f37-ff2c-c26a5b020de9"
      },
      "source": [
        "stats.norm.ppf(0.99)"
      ],
      "execution_count": 33,
      "outputs": [
        {
          "output_type": "execute_result",
          "data": {
            "text/plain": [
              "2.3263478740408408"
            ]
          },
          "metadata": {},
          "execution_count": 33
        }
      ]
    },
    {
      "cell_type": "code",
      "metadata": {
        "id": "4rxwZMWXZHco"
      },
      "source": [
        "sample_n2=(2.3263/0.04)*(2.3263/0.04)*0.5*(1-0.5)"
      ],
      "execution_count": 35,
      "outputs": []
    },
    {
      "cell_type": "code",
      "metadata": {
        "colab": {
          "base_uri": "https://localhost:8080/"
        },
        "id": "VX5F6giqZeX5",
        "outputId": "895c1392-5c3d-4275-df95-bec5e9fe1f36"
      },
      "source": [
        "sample_n2"
      ],
      "execution_count": 36,
      "outputs": [
        {
          "output_type": "execute_result",
          "data": {
            "text/plain": [
              "845.5737015624998"
            ]
          },
          "metadata": {},
          "execution_count": 36
        }
      ]
    },
    {
      "cell_type": "markdown",
      "metadata": {
        "id": "TiY4aEA5aWiI"
      },
      "source": [
        "**SET 4 CBA: Practice Problem Set 2\n",
        "Topics: Sampling Distributions and Central Limit Theorem**"
      ]
    },
    {
      "cell_type": "markdown",
      "metadata": {
        "id": "DD1WFY-Oaik1"
      },
      "source": [
        "\n",
        "3.Auditors at a small community bank randomly sample 100 withdrawal transactions made during the week at an ATM machine located near the bank’s main branch. Over the past 2 years, the average withdrawal amount has been $50 with a standard deviation of $40. Since audit investigations are typically expensive, the auditors decide to not initiate further investigations if the mean transaction amount of the sample is between $45 and $55. What is the probability that in any given week, there will be an investigation?\n",
        "\n",
        "A.1.25%\n",
        "B.2.5%\n",
        "C.10.55%\n",
        "2"
      ]
    },
    {
      "cell_type": "code",
      "metadata": {
        "colab": {
          "base_uri": "https://localhost:8080/"
        },
        "id": "1unRw0HWdQto",
        "outputId": "12be0b93-fbeb-405e-b93a-6624aa1028c9"
      },
      "source": [
        "# For no investigation P(45<x<55)\n",
        "# For investigation 1-P(45<x<55)"
      ],
      "execution_count": 37,
      "outputs": [
        {
          "output_type": "execute_result",
          "data": {
            "text/plain": [
              "0.4502617751698871"
            ]
          },
          "metadata": {},
          "execution_count": 37
        }
      ]
    },
    {
      "cell_type": "code",
      "metadata": {
        "colab": {
          "base_uri": "https://localhost:8080/"
        },
        "id": "M5DTmfnnhB4G",
        "outputId": "d7e25b0f-7136-4774-b13e-f0e03b4f9db6"
      },
      "source": [
        "#lets find z score for P(45<x<55) \n",
        "z1=(45-50)/(40/(np.sqrt(100)))\n",
        "z2=(55-50)/(40/(np.sqrt(100)))\n",
        "print(z1)\n",
        "print(z2)      "
      ],
      "execution_count": 49,
      "outputs": [
        {
          "output_type": "stream",
          "name": "stdout",
          "text": [
            "-1.25\n",
            "1.25\n"
          ]
        }
      ]
    },
    {
      "cell_type": "code",
      "metadata": {
        "colab": {
          "base_uri": "https://localhost:8080/"
        },
        "id": "3LrQfJ7wiSSe",
        "outputId": "7fd9945a-a740-42d4-fb1d-7388658c283b"
      },
      "source": [
        "## this is probabailty For no investigation P(45<x<55)\n",
        "\n",
        "stats.norm.cdf(z2)-stats.norm.cdf(z1)"
      ],
      "execution_count": 57,
      "outputs": [
        {
          "output_type": "execute_result",
          "data": {
            "text/plain": [
              "0.7887004526662893"
            ]
          },
          "metadata": {},
          "execution_count": 57
        }
      ]
    },
    {
      "cell_type": "code",
      "metadata": {
        "colab": {
          "base_uri": "https://localhost:8080/"
        },
        "id": "Tux_9tPgdj2X",
        "outputId": "2c87a789-7e25-4616-bf04-f2571834b6a7"
      },
      "source": [
        "# For investigation 1-P(45<x<55)\n",
        "\n",
        "1-0.7887        ### this is the probability for investigation"
      ],
      "execution_count": 58,
      "outputs": [
        {
          "output_type": "execute_result",
          "data": {
            "text/plain": [
              "0.21130000000000004"
            ]
          },
          "metadata": {},
          "execution_count": 58
        }
      ]
    },
    {
      "cell_type": "markdown",
      "metadata": {
        "id": "zAKdaUxo9DNi"
      },
      "source": [
        "\n",
        "The auditors from the above example would like to maintain the probability of investigation to 5%. Which of the following represents the minimum number transactions that they should sample if they do not want to change the thresholds of 45 and 55? Assume that the sample statistics remain unchanged.\n",
        "\n",
        "A. 144\n",
        "\n",
        "B. 150\n",
        "\n",
        "C. 196\n",
        "\n",
        "D. 250\n",
        "\n",
        "E. Not enough information"
      ]
    },
    {
      "cell_type": "code",
      "metadata": {
        "id": "1DqtwWhSdm9X"
      },
      "source": [
        ""
      ],
      "execution_count": 58,
      "outputs": []
    }
  ]
}